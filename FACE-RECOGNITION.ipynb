{
 "cells": [
  {
   "cell_type": "code",
   "execution_count": 2,
   "id": "0203dc1c",
   "metadata": {},
   "outputs": [],
   "source": [
    "import face_recognition\n",
    "import cv2\n",
    "import os\n",
    "import glob\n",
    "import numpy as np"
   ]
  },
  {
   "cell_type": "code",
   "execution_count": 9,
   "id": "585c7680",
   "metadata": {},
   "outputs": [
    {
     "name": "stdout",
     "output_type": "stream",
     "text": [
      "[0.50358918]\n"
     ]
    },
    {
     "data": {
      "text/plain": [
       "-1"
      ]
     },
     "execution_count": 9,
     "metadata": {},
     "output_type": "execute_result"
    }
   ],
   "source": [
    "#for comparing two images\n",
    "\n",
    "\n",
    "imgrenolds=face_recognition.load_image_file('C:/Users/Karthikeya/Documents/jupyter/face-reocgnition/Pictures/ryan renolds.jpg')\n",
    "imgrenolds=cv2.cvtColor(imgrenolds,cv2.COLOR_BGR2RGB)\n",
    "\n",
    "imgrenolds1=face_recognition.load_image_file('C:/Users/Karthikeya/Documents/jupyter/face-reocgnition/Pictures/ryan gosling.jpg')\n",
    "imgrenolds1=cv2.cvtColor(imgrenolds1,cv2.COLOR_BGR2RGB)\n",
    "\n",
    "faceloc=face_recognition.face_locations(imgrenolds)[0]\n",
    "encoderenolds=face_recognition.face_encodings(imgrenolds)[0]\n",
    "cv2.rectangle(imgrenolds,(faceloc[3],faceloc[0]),(faceloc[1],faceloc[2]),(255,0,0),5)\n",
    "\n",
    "faceloct=face_recognition.face_locations(imgrenolds1)[0]\n",
    "encoderenoldst=face_recognition.face_encodings(imgrenolds1)[0]\n",
    "cv2.rectangle(imgrenolds1,(faceloct[3],faceloct[0]),(faceloct[1],faceloct[2]),(255,0,0),5)\n",
    "\n",
    "results=face_recognition.compare_faces([encoderenolds],encoderenoldst)\n",
    "faceDis=face_recognition.face_distance([encoderenolds],encoderenoldst)\n",
    "print(faceDis)\n",
    "cv2.putText(imgrenolds,f'{results} {round(faceDis[0],2)}',(50,50),cv2.FONT_HERSHEY_COMPLEX,1,(0,0,255),2)\n",
    "\n",
    "\n",
    "cv2.imshow('img',imgrenolds)\n",
    "cv2.imshow('img1',imgrenolds1)\n",
    "\n",
    "cv2.waitKey(0)"
   ]
  },
  {
   "cell_type": "code",
   "execution_count": 8,
   "id": "be974ff0",
   "metadata": {
    "scrolled": false
   },
   "outputs": [],
   "source": [
    "import face_recognition\n",
    "import cv2\n",
    "import os\n",
    "import glob\n",
    "import numpy as np\n",
    "\n",
    "path='C:/Users/Karthikeya/Documents/jupyter/face-reocgnition/Pictures/'\n",
    "images=[]\n",
    "classNames=[]\n",
    "mylist=os.listdir(path)\n",
    "\n",
    "for cls in mylist:\n",
    "    img=cv2.imread(path+cls)\n",
    "    images.append(img)\n",
    "    classNames.append(os.path.splitext(cls)[0])\n",
    "\n",
    "\n",
    "def encoding(images):\n",
    "    encodelist=[]\n",
    "    for img in images:\n",
    "        img=cv2.cvtColor(img,cv2.COLOR_BGR2RGB)\n",
    "        faceloc=face_recognition.face_locations(img)[0]\n",
    "        encode=face_recognition.face_encodings(img)[0]\n",
    "        encodelist.append(encode)\n",
    "    return encodelist\n",
    "\n",
    "encodelist=encoding(images)\n",
    "\n",
    "cap=cv2.VideoCapture(0)\n",
    "\n",
    "while True:\n",
    "    ret,img=cap.read()\n",
    "    imgs=cv2.resize(img,(0,0),None,0.25,0.25)\n",
    "    imgs=cv2.cvtColor(imgs,cv2.COLOR_BGR2RGB)\n",
    "    \n",
    "    faceloc=face_recognition.face_locations(imgs)\n",
    "    encode=face_recognition.face_encodings(imgs,faceloc)\n",
    "\n",
    "    for encodeface,facelocf in zip(encode,faceloc):\n",
    "        matches=face_recognition.compare_faces(encodelist,encodeface)\n",
    "        faceDis=face_recognition.face_distance(encodelist,encodeface)\n",
    "        #print(faceDis)\n",
    "        matchIndex=np.argmin(faceDis)\n",
    "        if matches[matchIndex]:\n",
    "            name=classNames[matchIndex].upper()\n",
    "            #print(name)\n",
    "            y1,x2,y2,x1=facelocf\n",
    "            y1,x2,y2,x1=y1*4,x2*4,y2*4,x1*4\n",
    "            cv2.rectangle(img,(x1,y1),(x2,y2),(0,255,0),2)\n",
    "            cv2.rectangle(img,(x1,y2-35),(x2,y2),(0,255,0),cv2.FILLED)\n",
    "            cv2.putText(img,name, (x1+6,y2-26), cv2.FONT_HERSHEY_COMPLEX, 1, (255, 255, 255), 2)\n",
    "        else:\n",
    "            y1,x2,y2,x1=facelocf\n",
    "            y1,x2,y2,x1=y1*4,x2*4,y2*4,x1*4\n",
    "            cv2.rectangle(img,(x1,y1),(x2,y2),(0,255,0),2)\n",
    "            cv2.rectangle(img,(x1,y2-35),(x2,y2),(0,255,0),cv2.FILLED)\n",
    "            cv2.putText(img,'unkonown', (x1+6,y2-26), cv2.FONT_HERSHEY_COMPLEX, 1, (255, 255, 255), 2)\n",
    "    cv2.imshow('webcam',img)\n",
    "    if cv2.waitKey(1)==ord('s'):\n",
    "        break\n",
    "cap.release()\n",
    "cv2.destroyAllWindows()"
   ]
  },
  {
   "cell_type": "code",
   "execution_count": null,
   "id": "39d84551",
   "metadata": {},
   "outputs": [],
   "source": []
  }
 ],
 "metadata": {
  "kernelspec": {
   "display_name": "Python 3 (ipykernel)",
   "language": "python",
   "name": "python3"
  },
  "language_info": {
   "codemirror_mode": {
    "name": "ipython",
    "version": 3
   },
   "file_extension": ".py",
   "mimetype": "text/x-python",
   "name": "python",
   "nbconvert_exporter": "python",
   "pygments_lexer": "ipython3",
   "version": "3.9.12"
  }
 },
 "nbformat": 4,
 "nbformat_minor": 5
}
